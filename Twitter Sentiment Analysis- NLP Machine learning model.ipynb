{
 "cells": [
  {
   "cell_type": "markdown",
   "id": "51ca94ee",
   "metadata": {},
   "source": [
    "## Problem Statement\n",
    "In this project, we try to implement a Twitter sentiment analysis model that helps to overcome the challenges of identifying the sentiments of the tweets. The necessary details regarding the dataset are:\n",
    "\n",
    "The dataset provided is the Sentiment140 Dataset which consists of 1,600,000 tweets that have been extracted using the Twitter API. The various columns present in the dataset are:\n",
    "\n",
    "target: the polarity of the tweet (positive or negative)\n",
    "ids: Unique id of the tweet\n",
    "date: the date of the tweet\n",
    "flag: It refers to the query. If no such query exists then it is NO QUERY.\n",
    "user: It refers to the name of the user that tweeted\n",
    "text: It refers to the text of the tweet\n",
    "\n",
    "## Project Pipeline\n",
    "The various steps involved in the Machine Learning Pipeline are :\n",
    "\n",
    "Import Necessary Dependencies\n",
    "Read and Load the Dataset\n",
    "Exploratory Data Analysis\n",
    "Data Visualization of Target Variables\n",
    "Data Preprocessing\n",
    "Splitting our data into Train and Test Subset\n",
    "Transforming Dataset using TF-IDF Vectorizer\n",
    "Function for Model Evaluation\n",
    "Model Building\n",
    "Conclusion"
   ]
  },
  {
   "cell_type": "markdown",
   "id": "1aca2490",
   "metadata": {},
   "source": [
    "# Step-1: Import Necessary Dependencies"
   ]
  },
  {
   "cell_type": "code",
   "execution_count": null,
   "id": "7efa63b4",
   "metadata": {},
   "outputs": [],
   "source": [
    "# utilities\n",
    "import re\n",
    "import numpy as np\n",
    "import pandas as pd\n",
    "# plotting\n",
    "import seaborn as sns\n",
    "from wordcloud import WordCloud\n",
    "import matplotlib.pyplot as plt\n",
    "# nltk\n",
    "from nltk.stem import WordNetLemmatizer\n",
    "# sklearn\n",
    "from sklearn.svm import LinearSVC\n",
    "from sklearn.naive_bayes import BernoulliNB\n",
    "from sklearn.linear_model import LogisticRegression\n",
    "from sklearn.model_selection import train_test_split\n",
    "from sklearn.feature_extraction.text import TfidfVectorizer\n",
    "from sklearn.metrics import confusion_matrix, classification_report"
   ]
  },
  {
   "cell_type": "markdown",
   "id": "362f5c22",
   "metadata": {},
   "source": [
    "# Step-2: Read and Load the Dataset"
   ]
  },
  {
   "cell_type": "code",
   "execution_count": null,
   "id": "1f9baab0",
   "metadata": {},
   "outputs": [],
   "source": [
    "# Importing the dataset\n",
    "DATASET_COLUMNS=['target','ids','date','flag','user','text']\n",
    "DATASET_ENCODING = \"ISO-8859-1\"\n",
    "df = pd.read_csv('Project_Data.csv', encoding=DATASET_ENCODING, names=DATASET_COLUMNS)\n",
    "df.sample(5)"
   ]
  },
  {
   "cell_type": "markdown",
   "id": "c1e17f85",
   "metadata": {},
   "source": [
    "# Step-3: Exploratory Data Analysis "
   ]
  },
  {
   "cell_type": "code",
   "execution_count": null,
   "id": "ff0e0a03",
   "metadata": {},
   "outputs": [],
   "source": [
    "# 3.1: Five top records of data\n",
    "df.head()\n"
   ]
  },
  {
   "cell_type": "code",
   "execution_count": null,
   "id": "3c385eba",
   "metadata": {},
   "outputs": [],
   "source": [
    "# 3.2: Columns/features in data\n",
    "df.columns"
   ]
  },
  {
   "cell_type": "code",
   "execution_count": null,
   "id": "5bfc6a38",
   "metadata": {},
   "outputs": [],
   "source": [
    "# 3.3: Length of the dataset\n",
    "print('length of data is', len(df))"
   ]
  },
  {
   "cell_type": "code",
   "execution_count": null,
   "id": "b562994e",
   "metadata": {},
   "outputs": [],
   "source": [
    "# 3.4: Shape of data\n",
    "df. shape"
   ]
  },
  {
   "cell_type": "code",
   "execution_count": null,
   "id": "c9191b04",
   "metadata": {},
   "outputs": [],
   "source": [
    "# 3.5: Data information\n",
    "df.info()"
   ]
  },
  {
   "cell_type": "code",
   "execution_count": null,
   "id": "a63de205",
   "metadata": {},
   "outputs": [],
   "source": [
    "# 3.6: Datatypes of all columns\n",
    "df.dtypes"
   ]
  },
  {
   "cell_type": "code",
   "execution_count": null,
   "id": "3f5cac2c",
   "metadata": {},
   "outputs": [],
   "source": [
    "# 3.7: Checking for Null values\n",
    "np.sum(df.isnull().any(axis=1))"
   ]
  },
  {
   "cell_type": "code",
   "execution_count": null,
   "id": "1a3d847b",
   "metadata": {},
   "outputs": [],
   "source": [
    "# 3.8: Rows and columns in the dataset\n",
    "\n",
    "print('Count of columns in the data is:  ', len(df.columns))\n",
    "print('Count of rows in the data is:  ', len(df))"
   ]
  },
  {
   "cell_type": "code",
   "execution_count": null,
   "id": "245b38d5",
   "metadata": {},
   "outputs": [],
   "source": [
    "# 3.9: Check unique Target Values\n",
    "\n",
    "df['target'].unique()"
   ]
  },
  {
   "cell_type": "code",
   "execution_count": null,
   "id": "e7aa313a",
   "metadata": {},
   "outputs": [],
   "source": [
    "# 3.10: Check the number of target values\n",
    "\n",
    "df['target'].nunique()"
   ]
  },
  {
   "cell_type": "markdown",
   "id": "c5dcc536",
   "metadata": {},
   "source": [
    "# Step-4: Data Visualization of Target Variables"
   ]
  },
  {
   "cell_type": "code",
   "execution_count": null,
   "id": "26a1ded4",
   "metadata": {},
   "outputs": [],
   "source": [
    "# Plotting the distribution for dataset.\n",
    "ax = df.groupby('target').count().plot(kind='bar', title='Distribution of data',legend=False)\n",
    "ax.set_xticklabels(['Negative','Positive'], rotation=0)\n",
    "# Storing data in lists.\n",
    "text, sentiment = list(df['text']), list(df['target'])\n"
   ]
  },
  {
   "cell_type": "code",
   "execution_count": null,
   "id": "255ea41f",
   "metadata": {},
   "outputs": [],
   "source": [
    "import seaborn as sns\n",
    "sns.countplot(x='target', data=df)"
   ]
  },
  {
   "cell_type": "markdown",
   "id": "1e3d72dd",
   "metadata": {},
   "source": [
    "# Step-5: Data Preprocessing"
   ]
  },
  {
   "cell_type": "code",
   "execution_count": null,
   "id": "1f686e93",
   "metadata": {},
   "outputs": [],
   "source": [
    "# 5.1: Selecting the text and Target column for our further analysis\n",
    "data=df[['text','target']]"
   ]
  },
  {
   "cell_type": "code",
   "execution_count": null,
   "id": "d227b077",
   "metadata": {},
   "outputs": [],
   "source": [
    "# 5.2: Replacing the values to ease understanding. (Assigning 1 to Positive sentiment 4)\n",
    "\n",
    "data['target'] = data['target'].replace(4,1)"
   ]
  },
  {
   "cell_type": "code",
   "execution_count": null,
   "id": "4a189055",
   "metadata": {},
   "outputs": [],
   "source": [
    "# 5.3: Print unique values of target variables\n",
    "\n",
    "data['target'].unique()"
   ]
  },
  {
   "cell_type": "code",
   "execution_count": null,
   "id": "259ced8d",
   "metadata": {},
   "outputs": [],
   "source": [
    "# 5.4: Separating positive and negative tweets\n",
    "\n",
    "data_pos = data[data['target'] == 1]\n",
    "data_neg = data[data['target'] == 0]"
   ]
  },
  {
   "cell_type": "code",
   "execution_count": null,
   "id": "3124d37c",
   "metadata": {},
   "outputs": [],
   "source": [
    "# 5.5: taking one fourth data so we can run on our machine easily\n",
    "\n",
    "data_pos = data_pos.iloc[:int(20000)]\n",
    "data_neg = data_neg.iloc[:int(20000)]"
   ]
  },
  {
   "cell_type": "code",
   "execution_count": null,
   "id": "8f00dc86",
   "metadata": {},
   "outputs": [],
   "source": [
    "# 5.6: Combining positive and negative tweets\n",
    "\n",
    "dataset = pd.concat([data_pos, data_neg])"
   ]
  },
  {
   "cell_type": "code",
   "execution_count": null,
   "id": "ef508a89",
   "metadata": {},
   "outputs": [],
   "source": [
    "# 5.7: Making statement text in lower case\n",
    "\n",
    "dataset['text']=dataset['text'].str.lower()\n",
    "dataset['text'].tail()"
   ]
  },
  {
   "cell_type": "code",
   "execution_count": null,
   "id": "8d832d5e",
   "metadata": {},
   "outputs": [],
   "source": [
    "# 5.8: Defining set containing all stopwords in English.\n",
    "stopwordlist = ['a', 'about', 'above', 'after', 'again', 'ain', 'all', 'am', 'an',\n",
    "             'and','any','are', 'as', 'at', 'be', 'because', 'been', 'before',\n",
    "             'being', 'below', 'between','both', 'by', 'can', 'd', 'did', 'do',\n",
    "             'does', 'doing', 'down', 'during', 'each','few', 'for', 'from',\n",
    "             'further', 'had', 'has', 'have', 'having', 'he', 'her', 'here',\n",
    "             'hers', 'herself', 'him', 'himself', 'his', 'how', 'i', 'if', 'in',\n",
    "             'into','is', 'it', 'its', 'itself', 'just', 'll', 'm', 'ma',\n",
    "             'me', 'more', 'most','my', 'myself', 'now', 'o', 'of', 'on', 'once',\n",
    "             'only', 'or', 'other', 'our', 'ours','ourselves', 'out', 'own', 're','s', 'same', 'she', \"shes\", 'should', \"shouldve\",'so', 'some', 'such',\n",
    "             't', 'than', 'that', \"thatll\", 'the', 'their', 'theirs', 'them',\n",
    "             'themselves', 'then', 'there', 'these', 'they', 'this', 'those',\n",
    "             'through', 'to', 'too','under', 'until', 'up', 've', 'very', 'was',\n",
    "             'we', 'were', 'what', 'when', 'where','which','while', 'who', 'whom',\n",
    "             'why', 'will', 'with', 'won', 'y', 'you', \"youd\",\"youll\", \"youre\",\n",
    "             \"youve\", 'your', 'yours', 'yourself', 'yourselves']"
   ]
  },
  {
   "cell_type": "code",
   "execution_count": null,
   "id": "747d50d0",
   "metadata": {},
   "outputs": [],
   "source": [
    "# 5.9: Cleaning and removing the above stop words list from the tweet text\n",
    "\n",
    "STOPWORDS = set(stopwordlist)\n",
    "def cleaning_stopwords(text):\n",
    "    return \" \".join([word for word in str(text).split() if word not in STOPWORDS])\n",
    "dataset['text'] = dataset['text'].apply(lambda text: cleaning_stopwords(text))\n",
    "dataset['text'].head()"
   ]
  },
  {
   "cell_type": "code",
   "execution_count": null,
   "id": "259e283c",
   "metadata": {},
   "outputs": [],
   "source": [
    "# 5.10: Cleaning and removing punctuations\n",
    "\n",
    "import string\n",
    "english_punctuations = string.punctuation\n",
    "punctuations_list = english_punctuations\n",
    "def cleaning_punctuations(text):\n",
    "    translator = str.maketrans('', '', punctuations_list)\n",
    "    return text.translate(translator)\n",
    "dataset['text']= dataset['text'].apply(lambda x: cleaning_punctuations(x))\n",
    "dataset['text'].tail()"
   ]
  },
  {
   "cell_type": "code",
   "execution_count": null,
   "id": "29d8b5d5",
   "metadata": {},
   "outputs": [],
   "source": [
    "# 5.11: Cleaning and removing repeating characters\n",
    "\n",
    "def cleaning_repeating_char(text):\n",
    "    return re.sub(r'(.)1+', r'1', text)\n",
    "dataset['text'] = dataset['text'].apply(lambda x: cleaning_repeating_char(x))\n",
    "dataset['text'].tail()"
   ]
  },
  {
   "cell_type": "code",
   "execution_count": null,
   "id": "df59bc87",
   "metadata": {},
   "outputs": [],
   "source": [
    "# 5.12: Cleaning and removing URL’s\n",
    "\n",
    "def cleaning_URLs(data):\n",
    "    return re.sub('((www.[^s]+)|(https?://[^s]+))',' ',data)\n",
    "dataset['text'] = dataset['text'].apply(lambda x: cleaning_URLs(x))\n",
    "dataset['text'].tail()"
   ]
  },
  {
   "cell_type": "code",
   "execution_count": null,
   "id": "807219e8",
   "metadata": {},
   "outputs": [],
   "source": [
    "# 5.13: Cleaning and removing Numeric numbers\n",
    "\n",
    "def cleaning_numbers(data):\n",
    "    return re.sub('[0-9]+', '', data)\n",
    "dataset['text'] = dataset['text'].apply(lambda x: cleaning_numbers(x))\n",
    "dataset['text'].tail()"
   ]
  },
  {
   "cell_type": "code",
   "execution_count": null,
   "id": "af9eec2e",
   "metadata": {},
   "outputs": [],
   "source": [
    "# 5.14: Getting tokenization of tweet text\n",
    "\n",
    "from nltk.tokenize import RegexpTokenizer\n",
    "tokenizer = RegexpTokenizer(r'w+')\n",
    "dataset['text'] = dataset['text'].apply(tokenizer.tokenize)\n",
    "dataset['text'].head()"
   ]
  },
  {
   "cell_type": "code",
   "execution_count": null,
   "id": "efa42c3b",
   "metadata": {},
   "outputs": [],
   "source": [
    "# 5.15: Applying Stemming\n",
    "\n",
    "import nltk\n",
    "st = nltk.PorterStemmer()\n",
    "def stemming_on_text(data):\n",
    "    text = [st.stem(word) for word in data]\n",
    "    return data\n",
    "dataset['text']= dataset['text'].apply(lambda x: stemming_on_text(x))\n",
    "dataset['text'].head()"
   ]
  },
  {
   "cell_type": "code",
   "execution_count": null,
   "id": "c07d6353",
   "metadata": {},
   "outputs": [],
   "source": [
    "# 5.16: Applying Lemmatizer\n",
    "\n",
    "lm = nltk.WordNetLemmatizer()\n",
    "def lemmatizer_on_text(data):\n",
    "    text = [lm.lemmatize(word) for word in data]\n",
    "    return data\n",
    "dataset['text'] = dataset['text'].apply(lambda x: lemmatizer_on_text(x))\n",
    "dataset['text'].head()"
   ]
  },
  {
   "cell_type": "code",
   "execution_count": null,
   "id": "0d594767",
   "metadata": {},
   "outputs": [],
   "source": [
    "# 5.17: Separating input feature and label\n",
    "\n",
    "X=data.text\n",
    "y=data.target"
   ]
  },
  {
   "cell_type": "code",
   "execution_count": null,
   "id": "fa46553b",
   "metadata": {},
   "outputs": [],
   "source": [
    "# 5.18: Plot a cloud of words for negative tweets\n",
    "\n",
    "data_neg = data['text'][:800000]\n",
    "plt.figure(figsize = (20,20))\n",
    "wc = WordCloud(max_words = 1000 , width = 1600 , height = 800,\n",
    "               collocations=False).generate(\" \".join(data_neg))\n",
    "plt.imshow(wc)"
   ]
  },
  {
   "cell_type": "code",
   "execution_count": null,
   "id": "8815c71e",
   "metadata": {},
   "outputs": [],
   "source": [
    "# 5.19: Plot a cloud of words for positive tweets\n",
    "\n",
    "data_pos = data['text'][800000:]\n",
    "wc = WordCloud(max_words = 1000 , width = 1600 , height = 800,\n",
    "              collocations=False).generate(\" \".join(data_pos))\n",
    "plt.figure(figsize = (20,20))\n",
    "plt.imshow(wc)"
   ]
  },
  {
   "cell_type": "markdown",
   "id": "71b8e2ea",
   "metadata": {},
   "source": [
    "# Step-6: Splitting our data into Train and Test Subset"
   ]
  },
  {
   "cell_type": "code",
   "execution_count": null,
   "id": "94a1984d",
   "metadata": {},
   "outputs": [],
   "source": [
    "# Separating the 95% data for training data and 5% for testing data\n",
    "X_train, X_test, y_train, y_test = train_test_split(X,y,test_size = 0.05, random_state =26105111)"
   ]
  },
  {
   "cell_type": "markdown",
   "id": "43120758",
   "metadata": {},
   "source": [
    "# Step-7: Transforming Dataset using TF-IDF Vectorizer"
   ]
  },
  {
   "cell_type": "code",
   "execution_count": null,
   "id": "8e69e75c",
   "metadata": {},
   "outputs": [],
   "source": [
    "# 7.1: Fit the TF-IDF Vectorizer\n",
    "\n",
    "vectoriser = TfidfVectorizer(ngram_range=(1,2), max_features=500000)\n",
    "vectoriser.fit(X_train)\n",
    "print('No. of feature_words: ', len(vectoriser.get_feature_names()))"
   ]
  },
  {
   "cell_type": "code",
   "execution_count": null,
   "id": "6ce90ff8",
   "metadata": {},
   "outputs": [],
   "source": [
    "# 7.2: Transform the data using TF-IDF Vectorizer\n",
    "\n",
    "X_train = vectoriser.transform(X_train)\n",
    "X_test  = vectoriser.transform(X_test)"
   ]
  },
  {
   "cell_type": "markdown",
   "id": "1780210e",
   "metadata": {},
   "source": [
    "# Step-8: Function For Model Evaluation \n",
    "\n",
    "evaluation parameters to check the performance of the models:\n",
    "1. Accuracy Score\n",
    "2. Confusion Matrix with Plot\n",
    "3. ROC-AUC Curve"
   ]
  },
  {
   "cell_type": "code",
   "execution_count": null,
   "id": "e8cfc47d",
   "metadata": {},
   "outputs": [],
   "source": [
    "def model_Evaluate(model):\n",
    "# Predict values for Test dataset\n",
    "y_pred = model.predict(X_test)\n",
    "# Print the evaluation metrics for the dataset.\n",
    "print(classification_report(y_test, y_pred))\n",
    "# Compute and plot the Confusion matrix\n",
    "cf_matrix = confusion_matrix(y_test, y_pred)\n",
    "categories = ['Negative','Positive']\n",
    "group_names = ['True Neg','False Pos', 'False Neg','True Pos']\n",
    "group_percentages = ['{0:.2%}'.format(value) for value in cf_matrix.flatten() / np.sum(cf_matrix)]\n",
    "labels = [f'{v1}n{v2}' for v1, v2 in zip(group_names,group_percentages)]\n",
    "labels = np.asarray(labels).reshape(2,2)\n",
    "sns.heatmap(cf_matrix, annot = labels, cmap = 'Blues',fmt = '',\n",
    "xticklabels = categories, yticklabels = categories)\n",
    "plt.xlabel(\"Predicted values\", fontdict = {'size':14}, labelpad = 10)\n",
    "plt.ylabel(\"Actual values\" , fontdict = {'size':14}, labelpad = 10)\n",
    "plt.title (\"Confusion Matrix\", fontdict = {'size':18}, pad = 20)"
   ]
  },
  {
   "cell_type": "markdown",
   "id": "e93bc362",
   "metadata": {},
   "source": [
    "# Step-9: Model Building\n",
    "    three different models respectively :\n",
    "    Bernoulli Naive Bayes\n",
    "    SVM (Support Vector Machine)\n",
    "    Logistic Regression"
   ]
  },
  {
   "cell_type": "code",
   "execution_count": null,
   "id": "24f1e392",
   "metadata": {},
   "outputs": [],
   "source": [
    "# 8.1: Model-1\n",
    "\n",
    "BNBmodel = BernoulliNB()\n",
    "BNBmodel.fit(X_train, y_train)\n",
    "model_Evaluate(BNBmodel)\n",
    "y_pred1 = BNBmodel.predict(X_test)\n"
   ]
  },
  {
   "cell_type": "code",
   "execution_count": null,
   "id": "1a861938",
   "metadata": {},
   "outputs": [],
   "source": [
    "# 8.2: Plot the ROC-AUC Curve for model-1\n",
    "\n",
    "from sklearn.metrics import roc_curve, auc\n",
    "fpr, tpr, thresholds = roc_curve(y_test, y_pred1)\n",
    "roc_auc = auc(fpr, tpr)\n",
    "plt.figure()\n",
    "plt.plot(fpr, tpr, color='darkorange', lw=1, label='ROC curve (area = %0.2f)' % roc_auc)\n",
    "plt.xlim([0.0, 1.0])\n",
    "plt.ylim([0.0, 1.05])\n",
    "plt.xlabel('False Positive Rate')\n",
    "plt.ylabel('True Positive Rate')\n",
    "plt.title('ROC CURVE')\n",
    "plt.legend(loc=\"lower right\")\n",
    "plt.show()"
   ]
  },
  {
   "cell_type": "code",
   "execution_count": null,
   "id": "6ca0b669",
   "metadata": {},
   "outputs": [],
   "source": [
    "# 8.3: Model-2:\n",
    "SVCmodel = LinearSVC()\n",
    "SVCmodel.fit(X_train, y_train)\n",
    "model_Evaluate(SVCmodel)\n",
    "y_pred2 = SVCmodel.predict(X_test)"
   ]
  },
  {
   "cell_type": "code",
   "execution_count": null,
   "id": "355a488c",
   "metadata": {},
   "outputs": [],
   "source": [
    "# 8.4: Plot the ROC-AUC Curve for model-2\n",
    "\n",
    "from sklearn.metrics import roc_curve, auc\n",
    "fpr, tpr, thresholds = roc_curve(y_test, y_pred2)\n",
    "roc_auc = auc(fpr, tpr)\n",
    "plt.figure()\n",
    "plt.plot(fpr, tpr, color='darkorange', lw=1, label='ROC curve (area = %0.2f)' % roc_auc)\n",
    "plt.xlim([0.0, 1.0])\n",
    "plt.ylim([0.0, 1.05])\n",
    "plt.xlabel('False Positive Rate')\n",
    "plt.ylabel('True Positive Rate')\n",
    "plt.title('ROC CURVE')\n",
    "plt.legend(loc=\"lower right\")\n",
    "plt.show()"
   ]
  },
  {
   "cell_type": "code",
   "execution_count": null,
   "id": "6d5fb7c6",
   "metadata": {},
   "outputs": [],
   "source": [
    "# 8.5: Model-3\n",
    "\n",
    "LRmodel = LogisticRegression(C = 2, max_iter = 1000, n_jobs=-1)\n",
    "LRmodel.fit(X_train, y_train)\n",
    "model_Evaluate(LRmodel)\n",
    "y_pred3 = LRmodel.predict(X_test)"
   ]
  },
  {
   "cell_type": "code",
   "execution_count": null,
   "id": "2645cb37",
   "metadata": {},
   "outputs": [],
   "source": [
    "# 8.6: Plot the ROC-AUC Curve for model-3\n",
    "\n",
    "from sklearn.metrics import roc_curve, auc\n",
    "fpr, tpr, thresholds = roc_curve(y_test, y_pred3)\n",
    "roc_auc = auc(fpr, tpr)\n",
    "plt.figure()\n",
    "plt.plot(fpr, tpr, color='darkorange', lw=1, label='ROC curve (area = %0.2f)' % roc_auc)\n",
    "plt.xlim([0.0, 1.0])\n",
    "plt.ylim([0.0, 1.05])\n",
    "plt.xlabel('False Positive Rate')\n",
    "plt.ylabel('True Positive Rate')\n",
    "plt.title('ROC CURVE')\n",
    "plt.legend(loc=\"lower right\")\n",
    "plt.show()"
   ]
  },
  {
   "cell_type": "code",
   "execution_count": null,
   "id": "d23375e1",
   "metadata": {},
   "outputs": [],
   "source": [
    "# Step-10: Conclusion (draw our own only for reference)\n",
    "\n",
    "Accuracy: As far as the accuracy of the model is concerned Logistic Regression performs better \n",
    "    than SVM which in turn performs better than Bernoulli Naive Bayes.\n",
    "F1-score: The F1 Scores for class 0 and class 1 are :\n",
    "        (a) For class 0: Bernoulli Naive Bayes(accuracy = 0.90) < SVM (accuracy =0.91) < Logistic Regression (accuracy = 0.92)\n",
    "        (b) For class 1: Bernoulli Naive Bayes (accuracy = 0.66) < SVM (accuracy = 0.68) < Logistic Regression (accuracy = 0.69)\n",
    "AUC Score: All three models have the same ROC-AUC score.\n",
    "    \n",
    "    In our problem statement, Logistic Regression is following the principle of \n",
    "    Occam’s Razor which defines that for a particular problem statement if the data has no assumption, \n",
    "    then the simplest model works the best. Since our dataset does not have any \n",
    "    assumptions and Logistic Regression is a simple model, therefore the concept holds \n",
    "    true for the above-mentioned dataset."
   ]
  }
 ],
 "metadata": {
  "kernelspec": {
   "display_name": "mlenv",
   "language": "python",
   "name": "mlenv"
  },
  "language_info": {
   "codemirror_mode": {
    "name": "ipython",
    "version": 3
   },
   "file_extension": ".py",
   "mimetype": "text/x-python",
   "name": "python",
   "nbconvert_exporter": "python",
   "pygments_lexer": "ipython3",
   "version": "3.7.7"
  }
 },
 "nbformat": 4,
 "nbformat_minor": 5
}
